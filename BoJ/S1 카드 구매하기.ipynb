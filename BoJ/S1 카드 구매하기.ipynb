{
 "cells": [
  {
   "cell_type": "markdown",
   "metadata": {},
   "source": [
    "# Silver 1 카드 구매하기"
   ]
  },
  {
   "cell_type": "code",
   "execution_count": 1,
   "metadata": {},
   "outputs": [
    {
     "name": "stdout",
     "output_type": "stream",
     "text": [
      "8\n"
     ]
    }
   ],
   "source": [
    "# dp[i] = 카드 i개 구매하는 최대 가격 , p[k] = k개가 들어있는 카드팩 가격\n",
    "# dp[i] = p[k] + dp[i - k]\n",
    "N = int(input())\n",
    "pack = [0] + list(map(int,input().split()))\n",
    "dp = [0 for _ in range(N+1)]\n",
    "\n",
    "for i in range(1,N+1):\n",
    "    for k in range(1,i+1):\n",
    "        target_i = dp[i]\n",
    "        each_case_sum = dp[i-k]+pack[k]\n",
    "        dp[i] = max(target_i, each_case_sum)\n",
    "print(dp[i])"
   ]
  },
  {
   "cell_type": "code",
   "execution_count": 3,
   "metadata": {},
   "outputs": [
    {
     "name": "stdout",
     "output_type": "stream",
     "text": [
      "8\n"
     ]
    }
   ],
   "source": [
    "N = int(input())\n",
    "cards = list(map(int, input().split()))\n",
    "dp = [0]*(N+1)\n",
    "\n",
    "for i in range(1, N+1):\n",
    "\ttmp = []\n",
    "\tfor j in range(N//2+1):\n",
    "\t\ttmp.append(dp[i-j]+dp[j])\n",
    "\ttmp.append(cards[i-1])\n",
    "\tdp[i] = max(tmp)\n",
    "print(dp[i])"
   ]
  }
 ],
 "metadata": {
  "kernelspec": {
   "display_name": "Python 3.10.6 64-bit",
   "language": "python",
   "name": "python3"
  },
  "language_info": {
   "codemirror_mode": {
    "name": "ipython",
    "version": 3
   },
   "file_extension": ".py",
   "mimetype": "text/x-python",
   "name": "python",
   "nbconvert_exporter": "python",
   "pygments_lexer": "ipython3",
   "version": "3.10.6"
  },
  "orig_nbformat": 4,
  "vscode": {
   "interpreter": {
    "hash": "afb734500600fd355917ca529030176ea0ca205570884b88f2f6f7d791fd3fbe"
   }
  }
 },
 "nbformat": 4,
 "nbformat_minor": 2
}
