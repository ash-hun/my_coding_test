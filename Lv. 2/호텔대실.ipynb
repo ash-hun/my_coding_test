{
 "cells": [
  {
   "cell_type": "markdown",
   "metadata": {},
   "source": [
    "# 호텔 대실하기\n",
    "\n",
    "- **문제설명**\n",
    "    - 호텔을 운영 중인 코니는 최소한의 객실만을 사용하여 예약 손님들을 받으려고 합니다.  \n",
    "      한 번 사용한 객실은 퇴실 시간을 기준으로 10분간 청소를 하고 다음 손님들이 사용할 수 있습니다.  \n",
    "      예약 시각이 문자열 형태로 담긴 2차원 배열 book_time이 매개변수로 주어질 때, 코니에게 필요한 최소 객실의 수를 return 하는 solution 함수를 완성해주세요.  "
   ]
  },
  {
   "cell_type": "code",
   "execution_count": 28,
   "metadata": {},
   "outputs": [],
   "source": [
    "import heapq as h\n",
    "\n",
    "def solution(book_time):\n",
    "    def convertExpression(x1,x2):\n",
    "        return (int(x1[:2])*60 + int(x1[3:]), int(x2[:2])*60 + int(x2[3:]))\n",
    "    \n",
    "    answer = 1\n",
    "    book_time_sort = sorted(book_time)\n",
    "    book_time_list = [convertExpression(elem[0], elem[1]) for elem in book_time_sort]\n",
    "    \n",
    "    heap = []\n",
    "    for elem_start, elem_end in book_time_list:\n",
    "        if not heap:\n",
    "            h.heappush(heap, elem_end)\n",
    "            continue\n",
    "        if heap[0] <= elem_start:\n",
    "            h.heappop(heap)\n",
    "        else:\n",
    "            answer += 1\n",
    "        h.heappush(heap, elem_end+10)\n",
    "    return answer\n"
   ]
  },
  {
   "cell_type": "code",
   "execution_count": 29,
   "metadata": {},
   "outputs": [
    {
     "name": "stdout",
     "output_type": "stream",
     "text": [
      "3\n",
      "1\n",
      "3\n"
     ]
    }
   ],
   "source": [
    "print(solution([[\"15:00\", \"17:00\"], [\"16:40\", \"18:20\"], [\"14:20\", \"15:20\"], [\"14:10\", \"19:20\"], [\"18:20\", \"21:20\"]])) # 3\n",
    "print(solution([[\"09:10\", \"10:10\"], [\"10:20\", \"12:20\"]])) # 1\n",
    "print(solution([[\"10:20\", \"12:30\"], [\"10:20\", \"12:30\"], [\"10:20\", \"12:30\"]])) # 3"
   ]
  },
  {
   "cell_type": "code",
   "execution_count": null,
   "metadata": {},
   "outputs": [],
   "source": []
  }
 ],
 "metadata": {
  "kernelspec": {
   "display_name": "Python 3.9.13 ('base')",
   "language": "python",
   "name": "python3"
  },
  "language_info": {
   "codemirror_mode": {
    "name": "ipython",
    "version": 3
   },
   "file_extension": ".py",
   "mimetype": "text/x-python",
   "name": "python",
   "nbconvert_exporter": "python",
   "pygments_lexer": "ipython3",
   "version": "3.9.13"
  },
  "orig_nbformat": 4,
  "vscode": {
   "interpreter": {
    "hash": "58a28fc6c7d3319e920d4fd5d51ce0ce2935cf7a2f53d114afc959b6682a9b8b"
   }
  }
 },
 "nbformat": 4,
 "nbformat_minor": 2
}
