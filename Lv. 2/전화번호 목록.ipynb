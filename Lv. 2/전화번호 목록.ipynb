{
 "cells": [
  {
   "cell_type": "markdown",
   "metadata": {},
   "source": [
    "# **전화번호 목록**\n",
    "\n",
    "- **문제설명**  \n",
    "    전화번호부에 적힌 전화번호 중, 한 번호가 다른 번호의 접두어인 경우가 있는지 확인하려 합니다.  \n",
    "    전화번호가 다음과 같을 경우, 구조대 전화번호는 영석이의 전화번호의 접두사입니다.  \n",
    "\n",
    "    - 구조대 : 119  \n",
    "    - 박준영 : 97 674 223  \n",
    "    - 지영석 : 11 9552 4421  \n",
    "\n",
    "    전화번호부에 적힌 전화번호를 담은 배열 phone_book 이 solution 함수의 매개변수로 주어질 때, 어떤 번호가 다른 번호의 접두어인 경우가 있으면 false를 그렇지 않으면 true를 return 하도록 solution 함수를 작성해주세요.\n",
    "\n",
    "- **제한조건**\n",
    "    - phone_book의 길이는 1 이상 1,000,000 이하입니다.  \n",
    "    - 각 전화번호의 길이는 1 이상 20 이하입니다.  \n",
    "    - 같은 전화번호가 중복해서 들어있지 않습니다.  "
   ]
  },
  {
   "cell_type": "code",
   "execution_count": 43,
   "metadata": {},
   "outputs": [],
   "source": [
    "# def solution(phone_book):\n",
    "#     targets = set(phone_book)\n",
    "#     for elem in targets:\n",
    "#         tmp = targets.copy()\n",
    "#         tmp.remove(elem)\n",
    "#         for target in tmp:\n",
    "#             if target in elem:\n",
    "#                 return False\n",
    "#     return True\n",
    "\n",
    "\n",
    "def solution(phone_book):\n",
    "    board = { number:1 for number in phone_book }\n",
    "    \n",
    "    for numbers in phone_book:\n",
    "        prefix = \"\"\n",
    "        for number in numbers:\n",
    "            prefix += number\n",
    "            if prefix in board and prefix != numbers:\n",
    "                return False\n",
    "    return True"
   ]
  },
  {
   "cell_type": "code",
   "execution_count": 44,
   "metadata": {},
   "outputs": [
    {
     "name": "stdout",
     "output_type": "stream",
     "text": [
      "False\n",
      "True\n",
      "False\n"
     ]
    }
   ],
   "source": [
    "print(solution([\"119\", \"97674223\", \"1195524421\"]))  # false\n",
    "print(solution([\"123\",\"456\",\"789\"]))                # true\n",
    "print(solution([\"12\",\"123\",\"1235\",\"567\",\"88\"]))     # false"
   ]
  },
  {
   "cell_type": "code",
   "execution_count": null,
   "metadata": {},
   "outputs": [],
   "source": []
  }
 ],
 "metadata": {
  "kernelspec": {
   "display_name": "Python 3.10.6 64-bit",
   "language": "python",
   "name": "python3"
  },
  "language_info": {
   "codemirror_mode": {
    "name": "ipython",
    "version": 3
   },
   "file_extension": ".py",
   "mimetype": "text/x-python",
   "name": "python",
   "nbconvert_exporter": "python",
   "pygments_lexer": "ipython3",
   "version": "3.10.6"
  },
  "orig_nbformat": 4,
  "vscode": {
   "interpreter": {
    "hash": "afb734500600fd355917ca529030176ea0ca205570884b88f2f6f7d791fd3fbe"
   }
  }
 },
 "nbformat": 4,
 "nbformat_minor": 2
}
