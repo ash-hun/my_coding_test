{
 "cells": [
  {
   "cell_type": "markdown",
   "metadata": {},
   "source": [
    "# 괄호 회전하기\n",
    "\n",
    "- **문제설명**\n",
    "    - 다음 규칙을 지키는 문자열을 올바른 괄호 문자열이라고 정의합니다.\n",
    "        (), [], {} 는 모두 올바른 괄호 문자열입니다.\n",
    "        만약 A가 올바른 괄호 문자열이라면, (A), [A], {A} 도 올바른 괄호 문자열입니다. 예를 들어, [] 가 올바른 괄호 문자열이므로, ([]) 도 올바른 괄호 문자열입니다.\n",
    "        만약 A, B가 올바른 괄호 문자열이라면, AB 도 올바른 괄호 문자열입니다. 예를 들어, {} 와 ([]) 가 올바른 괄호 문자열이므로, {}([]) 도 올바른 괄호 문자열입니다.\n",
    "        대괄호, 중괄호, 그리고 소괄호로 이루어진 문자열 s가 매개변수로 주어집니다. 이 s를 왼쪽으로 x (0 ≤ x < (s의 길이)) 칸만큼 회전시켰을 때 s가 올바른 괄호 문자열이 되게 하는 x의 개수를 return 하도록 solution 함수를 완성해주세요."
   ]
  },
  {
   "cell_type": "code",
   "execution_count": 1,
   "metadata": {},
   "outputs": [],
   "source": [
    "def solution(s):\n",
    "    def isRight(target):\n",
    "        stack = []\n",
    "        for idx, elem in enumerate(target):\n",
    "            if elem in ('[', '(', '{'):\n",
    "                stack.append(elem)\n",
    "            else:\n",
    "                if not stack: return False\n",
    "                x = stack.pop()\n",
    "                if elem == ']' and x != '[':\n",
    "                    return False\n",
    "                elif elem == '}' and x != '{':\n",
    "                    return False\n",
    "                elif elem== ')' and x != '(':\n",
    "                    return False\n",
    "        if stack: return False\n",
    "        return True\n",
    "                \n",
    "        \n",
    "    answer = 0\n",
    "    tmp = s+s\n",
    "    for start in range(0, len(s)):\n",
    "        # print(f\"{start}번째 문자열 : {tmp[start:start+len(s)]}\")\n",
    "        if isRight(tmp[start:start+len(s)]):\n",
    "            answer += 1\n",
    "    return answer"
   ]
  },
  {
   "cell_type": "code",
   "execution_count": 2,
   "metadata": {},
   "outputs": [
    {
     "name": "stdout",
     "output_type": "stream",
     "text": [
      "3\n",
      "2\n",
      "0\n",
      "0\n"
     ]
    }
   ],
   "source": [
    "print(solution(\"[](){}\")) #3\n",
    "print(solution(\"}]()[{\")) #2\n",
    "print(solution(\"[)(]\")) #0\n",
    "print(solution(\"}}}\")) #0"
   ]
  },
  {
   "cell_type": "code",
   "execution_count": null,
   "metadata": {},
   "outputs": [],
   "source": []
  }
 ],
 "metadata": {
  "kernelspec": {
   "display_name": "Python 3.9.13 ('base')",
   "language": "python",
   "name": "python3"
  },
  "language_info": {
   "codemirror_mode": {
    "name": "ipython",
    "version": 3
   },
   "file_extension": ".py",
   "mimetype": "text/x-python",
   "name": "python",
   "nbconvert_exporter": "python",
   "pygments_lexer": "ipython3",
   "version": "3.9.13"
  },
  "orig_nbformat": 4,
  "vscode": {
   "interpreter": {
    "hash": "58a28fc6c7d3319e920d4fd5d51ce0ce2935cf7a2f53d114afc959b6682a9b8b"
   }
  }
 },
 "nbformat": 4,
 "nbformat_minor": 2
}
