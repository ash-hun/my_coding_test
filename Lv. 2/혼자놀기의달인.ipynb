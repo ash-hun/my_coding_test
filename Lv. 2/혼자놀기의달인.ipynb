{
 "cells": [
  {
   "cell_type": "markdown",
   "metadata": {},
   "source": [
    "# 혼자놀기의 달인"
   ]
  },
  {
   "cell_type": "code",
   "execution_count": 1,
   "metadata": {},
   "outputs": [],
   "source": [
    "def solution(cards):\n",
    "    answer_list, visitied_list = [], [0] * (len(cards))\n",
    "    \n",
    "    for target in cards:\n",
    "        if not visitied_list[target-1]:\n",
    "            tmp = []\n",
    "            while target not in tmp:\n",
    "                tmp.append(target)\n",
    "                target = cards[target-1]\n",
    "                visitied_list[target-1] = 1\n",
    "            answer_list.append(len(tmp))\n",
    "    \n",
    "    if answer_list[0] == len(cards):\n",
    "        return 0\n",
    "    else:\n",
    "        answer_list.sort(reverse=True)\n",
    "        ans = answer_list[0] * answer_list[1]\n",
    "    return ans"
   ]
  },
  {
   "cell_type": "code",
   "execution_count": 2,
   "metadata": {},
   "outputs": [
    {
     "name": "stdout",
     "output_type": "stream",
     "text": [
      "12\n"
     ]
    }
   ],
   "source": [
    "print(solution([8,6,3,7,2,5,1,4])) #12"
   ]
  }
 ],
 "metadata": {
  "kernelspec": {
   "display_name": "Python 3.10.6 64-bit",
   "language": "python",
   "name": "python3"
  },
  "language_info": {
   "codemirror_mode": {
    "name": "ipython",
    "version": 3
   },
   "file_extension": ".py",
   "mimetype": "text/x-python",
   "name": "python",
   "nbconvert_exporter": "python",
   "pygments_lexer": "ipython3",
   "version": "3.10.6"
  },
  "orig_nbformat": 4,
  "vscode": {
   "interpreter": {
    "hash": "afb734500600fd355917ca529030176ea0ca205570884b88f2f6f7d791fd3fbe"
   }
  }
 },
 "nbformat": 4,
 "nbformat_minor": 2
}
