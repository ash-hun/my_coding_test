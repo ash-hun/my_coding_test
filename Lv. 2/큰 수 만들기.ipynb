{
 "cells": [
  {
   "cell_type": "markdown",
   "metadata": {},
   "source": [
    "# **큰 수 만들기**\n",
    "\n",
    "- **문제설명**\n",
    "    어떤 숫자에서 k개의 수를 제거했을 때 얻을 수 있는 가장 큰 숫자를 구하려 합니다.  \n",
    "    예를 들어, 숫자 1924에서 수 두 개를 제거하면 [19, 12, 14, 92, 94, 24] 를 만들 수 있습니다. 이 중 가장 큰 숫자는 94 입니다.  \n",
    "    문자열 형식으로 숫자 number와 제거할 수의 개수 k가 solution 함수의 매개변수로 주어집니다.  \n",
    "    number에서 k 개의 수를 제거했을 때 만들 수 있는 수 중 가장 큰 숫자를 문자열 형태로 return 하도록 solution 함수를 완성하세요.  \n",
    "- **제한조건**\n",
    "    - number는 2자리 이상, 1,000,000자리 이하인 숫자입니다.\n",
    "    - k는 1 이상 number의 자릿수 미만인 자연수입니다."
   ]
  },
  {
   "cell_type": "code",
   "execution_count": 53,
   "metadata": {},
   "outputs": [],
   "source": [
    "def solution(number, k):\n",
    "    answer = []\n",
    "    \n",
    "    for num in number:\n",
    "        while k > 0 and answer and answer[-1] < num:\n",
    "            answer.pop()\n",
    "            k -= 1\n",
    "        answer.append(num)\n",
    "        \n",
    "    return ''.join(answer[:len(answer) - k])\n",
    "    "
   ]
  },
  {
   "cell_type": "code",
   "execution_count": 54,
   "metadata": {},
   "outputs": [
    {
     "name": "stdout",
     "output_type": "stream",
     "text": [
      "94\n",
      "3234\n",
      "775841\n"
     ]
    }
   ],
   "source": [
    "print(solution(\"1924\", 2)) # \"94\"\n",
    "print(solution(\"1231234\", 3)) # \"3234\"\n",
    "print(solution(\"4177252841\", 4))# \"775841\""
   ]
  }
 ],
 "metadata": {
  "kernelspec": {
   "display_name": "Python 3.10.9 ('pytorch': conda)",
   "language": "python",
   "name": "python3"
  },
  "language_info": {
   "codemirror_mode": {
    "name": "ipython",
    "version": 3
   },
   "file_extension": ".py",
   "mimetype": "text/x-python",
   "name": "python",
   "nbconvert_exporter": "python",
   "pygments_lexer": "ipython3",
   "version": "3.10.9"
  },
  "orig_nbformat": 4,
  "vscode": {
   "interpreter": {
    "hash": "fa6f37d631bf365f04fc4bc3180adfc9b3dd8f2856279e1e747cdbbf0e44bcd9"
   }
  }
 },
 "nbformat": 4,
 "nbformat_minor": 2
}
