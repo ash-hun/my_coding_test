{
 "cells": [
  {
   "cell_type": "markdown",
   "metadata": {},
   "source": [
    "# **최댓값과 최솟값**\n",
    "\n",
    "- **문제설명**  \n",
    "    문자열 s에는 공백으로 구분된 숫자들이 저장되어 있습니다.  \n",
    "    str에 나타나는 숫자 중 최소값과 최대값을 찾아 이를 \"(최소값) (최대값)\"형태의 문자열을 반환하는 함수 solution을 완성하세요.  \n",
    "    예를들어 s가 \"1 2 3 4\"라면 \"1 4\"를 리턴하고, \"-1 -2 -3 -4\"라면 \"-4 -1\"을 리턴하면 됩니다.  \n",
    "- **제한조건**\n",
    "    - s는 길이 1 이상 200 이하인 문자열입니다.\n",
    "    - s는 알파벳과 숫자, 공백문자(\" \")로 이루어져 있습니다.\n",
    "        - 숫자는 단어의 첫 문자로만 나옵니다.\n",
    "        - 숫자로만 이루어진 단어는 없습니다.\n",
    "        - 공백문자가 연속해서 나올 수 있습니다."
   ]
  },
  {
   "cell_type": "code",
   "execution_count": 1,
   "metadata": {},
   "outputs": [],
   "source": [
    "def solution(s):\n",
    "    number = sorted(map(int, s.split()))\n",
    "    return str(number[0])+\" \"+str(number[-1])"
   ]
  },
  {
   "cell_type": "code",
   "execution_count": 2,
   "metadata": {},
   "outputs": [
    {
     "name": "stdout",
     "output_type": "stream",
     "text": [
      "1 4\n",
      "-4 -1\n",
      "-1 -1\n"
     ]
    }
   ],
   "source": [
    "print(solution(\"1 2 3 4\")) # \t\"1 4\"\n",
    "print(solution(\"-1 -2 -3 -4\")) # \"-4 -1\"\n",
    "print(solution(\"-1 -1\")) # \t\"-1 -1\""
   ]
  }
 ],
 "metadata": {
  "kernelspec": {
   "display_name": "Python 3.10.6 64-bit",
   "language": "python",
   "name": "python3"
  },
  "language_info": {
   "codemirror_mode": {
    "name": "ipython",
    "version": 3
   },
   "file_extension": ".py",
   "mimetype": "text/x-python",
   "name": "python",
   "nbconvert_exporter": "python",
   "pygments_lexer": "ipython3",
   "version": "3.10.6"
  },
  "orig_nbformat": 4,
  "vscode": {
   "interpreter": {
    "hash": "afb734500600fd355917ca529030176ea0ca205570884b88f2f6f7d791fd3fbe"
   }
  }
 },
 "nbformat": 4,
 "nbformat_minor": 2
}
