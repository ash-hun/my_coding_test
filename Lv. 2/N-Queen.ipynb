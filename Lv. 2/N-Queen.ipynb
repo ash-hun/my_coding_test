{
 "cells": [
  {
   "cell_type": "markdown",
   "metadata": {},
   "source": [
    "# **전화번호 목록**\n",
    "\n",
    "- **문제설명**  \n",
    "    가로, 세로 길이가 n인 정사각형으로된 체스판이 있습니다. 체스판 위의 n개의 퀸이 서로를 공격할 수 없도록 배치하고 싶습니다.  \n",
    "    예를 들어서 n이 4인경우 다음과 같이 퀸을 배치하면 n개의 퀸은 서로를 한번에 공격 할 수 없습니다.  \n",
    "    체스판의 가로 세로의 세로의 길이 n이 매개변수로 주어질 때, n개의 퀸이 조건에 만족 하도록 배치할 수 있는 방법의 수를 return하는 solution함수를 완성해주세요.  \n",
    "\n",
    "- **제한조건**\n",
    "    - 퀸(Queen)은 가로, 세로, 대각선으로 이동할 수 있습니다.\n",
    "    - n은 12이하의 자연수 입니다."
   ]
  },
  {
   "cell_type": "code",
   "execution_count": 1,
   "metadata": {},
   "outputs": [],
   "source": [
    "def solution(n):\n",
    "    global answer\n",
    "    answer = 0\n",
    "    \n",
    "    def check(idx,col):\n",
    "        global answer\n",
    "        n=len(col)\n",
    "        if promising(idx,col) :\n",
    "            if idx==n-1:\n",
    "                answer += 1\n",
    "            else :\n",
    "                for j in range(n):\n",
    "                    col[idx+1] = j\n",
    "                    check(idx+1,col)\n",
    "    \n",
    "    def promising(idx,col):\n",
    "        for k in range(idx):\n",
    "            if (col[idx]==col[k]) or (abs(col[idx]-col[k])==idx-k) :\n",
    "                return False\n",
    "        return True\n",
    "\n",
    "    for i in range(n):\n",
    "        col = [i] + [0]*(n-1)\n",
    "        check(0,col)\n",
    "    return answer"
   ]
  },
  {
   "cell_type": "code",
   "execution_count": 2,
   "metadata": {},
   "outputs": [
    {
     "name": "stdout",
     "output_type": "stream",
     "text": [
      "2\n"
     ]
    }
   ],
   "source": [
    "print(solution(4))  # 2"
   ]
  }
 ],
 "metadata": {
  "kernelspec": {
   "display_name": "Python 3.10.6 64-bit",
   "language": "python",
   "name": "python3"
  },
  "language_info": {
   "codemirror_mode": {
    "name": "ipython",
    "version": 3
   },
   "file_extension": ".py",
   "mimetype": "text/x-python",
   "name": "python",
   "nbconvert_exporter": "python",
   "pygments_lexer": "ipython3",
   "version": "3.10.6"
  },
  "orig_nbformat": 4,
  "vscode": {
   "interpreter": {
    "hash": "afb734500600fd355917ca529030176ea0ca205570884b88f2f6f7d791fd3fbe"
   }
  }
 },
 "nbformat": 4,
 "nbformat_minor": 2
}
