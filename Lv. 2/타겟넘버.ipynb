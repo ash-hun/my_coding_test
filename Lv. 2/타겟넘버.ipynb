{
 "cells": [
  {
   "cell_type": "markdown",
   "metadata": {},
   "source": [
    "# 타겟넘버"
   ]
  },
  {
   "cell_type": "code",
   "execution_count": 16,
   "metadata": {},
   "outputs": [],
   "source": [
    "def solution(numbers, target):\n",
    "    # 순서 유지 필요.\n",
    "    # numbers의 각 원소를 +, - 2개의 부호로 바꾸어서 총 2개의 트리를 생성\n",
    "    # 트리를 돌면서 합을 구함. 총합이 타겟넘버와 같으면 1을 반환.\n",
    "    def recursiveTree(numbers, sum, target):\n",
    "        if numbers == []:\n",
    "            if sum==target: return 1\n",
    "            else:   return 0\n",
    "        # print(f\"numbers[0] : {numbers[0]}\")\n",
    "        # print(f\"numbers[1:] : {numbers[1:]}\")\n",
    "        return recursiveTree(numbers[1:], sum + numbers[0], target) + recursiveTree(numbers[1:], sum - numbers[0], target)\n",
    "    return recursiveTree(numbers, 0, target)"
   ]
  },
  {
   "cell_type": "code",
   "execution_count": 18,
   "metadata": {},
   "outputs": [
    {
     "name": "stdout",
     "output_type": "stream",
     "text": [
      "5\n",
      "2\n"
     ]
    }
   ],
   "source": [
    "print(solution([1,1,1,1,1],3)) # 5\n",
    "print(solution([4,1,2,1],4)) # 2"
   ]
  },
  {
   "cell_type": "code",
   "execution_count": null,
   "metadata": {},
   "outputs": [],
   "source": []
  }
 ],
 "metadata": {
  "kernelspec": {
   "display_name": "Python 3.10.6 64-bit",
   "language": "python",
   "name": "python3"
  },
  "language_info": {
   "codemirror_mode": {
    "name": "ipython",
    "version": 3
   },
   "file_extension": ".py",
   "mimetype": "text/x-python",
   "name": "python",
   "nbconvert_exporter": "python",
   "pygments_lexer": "ipython3",
   "version": "3.10.6"
  },
  "orig_nbformat": 4,
  "vscode": {
   "interpreter": {
    "hash": "afb734500600fd355917ca529030176ea0ca205570884b88f2f6f7d791fd3fbe"
   }
  }
 },
 "nbformat": 4,
 "nbformat_minor": 2
}
