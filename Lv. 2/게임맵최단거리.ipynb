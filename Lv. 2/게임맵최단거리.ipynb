{
 "cells": [
  {
   "cell_type": "markdown",
   "metadata": {},
   "source": [
    "# 게임 맵 최단거리"
   ]
  },
  {
   "cell_type": "code",
   "execution_count": 8,
   "metadata": {},
   "outputs": [],
   "source": [
    "from collections import deque\n",
    "\n",
    "def solution(maps):\n",
    "    move = [[-1,1,0,0], [0,0,-1,1]]\n",
    "    M, N = len(maps[0]), len(maps)\n",
    "    \n",
    "    queue=deque([(0,0)])\n",
    "    \n",
    "    while queue:\n",
    "        # print(f'queue : {queue}')\n",
    "        x,y = queue.popleft()\n",
    "        # print(f'x, y / queue : {x}, {y} / {queue}')\n",
    "        if (x,y) == (N-1,M-1):\n",
    "            return maps[x][y]\n",
    "\n",
    "        for i in range(4):\n",
    "            nx = x + move[0][i]\n",
    "            ny = y + move[1][i]\n",
    "            # print(f'nx, ny : {nx}, {ny}')\n",
    "            \n",
    "            if 0<=nx<N and 0<=ny<M:\n",
    "                if maps[nx][ny]==1:\n",
    "                    maps[nx][ny] = maps[x][y]+1\n",
    "                    queue.append((nx,ny))\n",
    "                    \n",
    "    return -1"
   ]
  },
  {
   "cell_type": "code",
   "execution_count": 9,
   "metadata": {},
   "outputs": [
    {
     "name": "stdout",
     "output_type": "stream",
     "text": [
      "11\n",
      "-1\n"
     ]
    }
   ],
   "source": [
    "print(solution([[1,0,1,1,1],[1,0,1,0,1],[1,0,1,1,1],[1,1,1,0,1],[0,0,0,0,1]])) #11\n",
    "print(solution([[1,0,1,1,1],[1,0,1,0,1],[1,0,1,1,1],[1,1,1,0,0],[0,0,0,0,1]])) #-1"
   ]
  },
  {
   "cell_type": "code",
   "execution_count": null,
   "metadata": {},
   "outputs": [],
   "source": []
  }
 ],
 "metadata": {
  "kernelspec": {
   "display_name": "Python 3.10.6 64-bit",
   "language": "python",
   "name": "python3"
  },
  "language_info": {
   "codemirror_mode": {
    "name": "ipython",
    "version": 3
   },
   "file_extension": ".py",
   "mimetype": "text/x-python",
   "name": "python",
   "nbconvert_exporter": "python",
   "pygments_lexer": "ipython3",
   "version": "3.10.6"
  },
  "orig_nbformat": 4,
  "vscode": {
   "interpreter": {
    "hash": "afb734500600fd355917ca529030176ea0ca205570884b88f2f6f7d791fd3fbe"
   }
  }
 },
 "nbformat": 4,
 "nbformat_minor": 2
}
