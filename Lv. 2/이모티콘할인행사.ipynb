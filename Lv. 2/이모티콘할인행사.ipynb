{
 "cells": [
  {
   "cell_type": "markdown",
   "metadata": {},
   "source": [
    "# 이모티콘 할인행사"
   ]
  },
  {
   "cell_type": "code",
   "execution_count": 17,
   "metadata": {},
   "outputs": [],
   "source": [
    "from itertools import product\n",
    "\n",
    "\n",
    "def solution(users, emoticons):\n",
    "    answer = [0, 0]\n",
    "    allCase = []\n",
    "\n",
    "    for i in product([10,20,30,40], repeat=len(emoticons)):\n",
    "        allCase.append(list(i))\n",
    "    # print(f'allCase : {allCase}')\n",
    "\n",
    "    for each_case in allCase:\n",
    "        serviceUser, totalPrice = 0, 0\n",
    "\n",
    "        for user in users:\n",
    "            sale_value, max_price = user\n",
    "            sale_emoticon = 0\n",
    "\n",
    "            for i, sale in enumerate(each_case):\n",
    "                if sale_value <= sale:\n",
    "                    sale_emoticon += (emoticons[i] * (100 - sale) / 100)\n",
    "\n",
    "            if sale_emoticon >= max_price:\n",
    "                serviceUser += 1\n",
    "            else:\n",
    "                totalPrice += sale_emoticon\n",
    "\n",
    "        if serviceUser > answer[0]:\n",
    "            answer[0], answer[1] = serviceUser, int(totalPrice)\n",
    "        elif serviceUser == answer[0] and totalPrice > answer[1]:\n",
    "            answer[1] = int(totalPrice)\n",
    "\n",
    "    return answer"
   ]
  },
  {
   "cell_type": "code",
   "execution_count": 18,
   "metadata": {},
   "outputs": [
    {
     "name": "stdout",
     "output_type": "stream",
     "text": [
      "[1, 5400]\n",
      "[4, 13860]\n"
     ]
    }
   ],
   "source": [
    "print(solution([[40, 10000], [25, 10000]], [7000,9000])) # [1, 5400]\n",
    "print(solution([[40, 2900], [23, 10000], [11, 5200], [5, 5900], [40, 3100], [27, 9200], [32, 6900]], [1300, 1500, 1600, 4900])) # [4, 13860]"
   ]
  },
  {
   "cell_type": "code",
   "execution_count": null,
   "metadata": {},
   "outputs": [],
   "source": []
  }
 ],
 "metadata": {
  "kernelspec": {
   "display_name": "Python 3.10.6 64-bit",
   "language": "python",
   "name": "python3"
  },
  "language_info": {
   "codemirror_mode": {
    "name": "ipython",
    "version": 3
   },
   "file_extension": ".py",
   "mimetype": "text/x-python",
   "name": "python",
   "nbconvert_exporter": "python",
   "pygments_lexer": "ipython3",
   "version": "3.10.6"
  },
  "orig_nbformat": 4,
  "vscode": {
   "interpreter": {
    "hash": "afb734500600fd355917ca529030176ea0ca205570884b88f2f6f7d791fd3fbe"
   }
  }
 },
 "nbformat": 4,
 "nbformat_minor": 2
}
