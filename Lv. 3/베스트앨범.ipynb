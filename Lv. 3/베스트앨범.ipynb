{
 "cells": [
  {
   "cell_type": "markdown",
   "metadata": {},
   "source": [
    "# **베스트 앨범**"
   ]
  },
  {
   "cell_type": "code",
   "execution_count": 1,
   "metadata": {},
   "outputs": [],
   "source": [
    "# 1차 솔루션 : 테스트 케이스는 통과하나 다른 케이스에서 막혔다.\n",
    "\n",
    "# Solution 01\n",
    "from operator import itemgetter as get\n",
    "\n",
    "\n",
    "def solution_1(genres, plays):\n",
    "    answer, cnt = [], 0\n",
    "    total_play, each_play = {genre:0 for genre in set(genres)}, {genre:[] for genre in set(genres)}\n",
    "    for (idx, genre), play in zip(enumerate(genres), plays):\n",
    "        total_play[genre] += play\n",
    "        each_play[genre].append((idx, play))\n",
    "    total_play = sorted(total_play, key=lambda item: item[1], reverse=True)\n",
    "    each_play = {key:sorted(val, key=get(1), reverse=True) for key, val in each_play.items()}\n",
    "    for target in total_play:\n",
    "        for target_genre in each_play[target]:\n",
    "            if cnt < 2:\n",
    "                answer.append(target_genre[0])\n",
    "                cnt +=1\n",
    "            else:\n",
    "                continue\n",
    "        cnt = 0\n",
    "    return answer"
   ]
  },
  {
   "cell_type": "code",
   "execution_count": 2,
   "metadata": {},
   "outputs": [],
   "source": [
    "# 2차 시도\n",
    "\n",
    "def solution(genres, plays):\n",
    "    answer = []\n",
    "    each_play, total_play = {}, {}\n",
    "\n",
    "    for idx, (genre, play) in enumerate(zip(genres, plays)):\n",
    "        if genre not in each_play:\n",
    "            each_play[genre] = [(idx, play)]\n",
    "        else:\n",
    "            each_play[genre].append((idx, play))\n",
    "\n",
    "        if genre not in total_play:\n",
    "            total_play[genre] = play\n",
    "        else:\n",
    "            total_play[genre] += play\n",
    "\n",
    "    for (genre_key, _) in sorted(total_play.items(), key=lambda x:x[1], reverse=True):\n",
    "        for (target_idx, _) in sorted(each_play[genre_key], key=lambda x:x[1], reverse=True)[:2]:\n",
    "            answer.append(target_idx)\n",
    "    return answer"
   ]
  },
  {
   "cell_type": "code",
   "execution_count": 3,
   "metadata": {},
   "outputs": [
    {
     "name": "stdout",
     "output_type": "stream",
     "text": [
      "[4, 1, 3, 0]\n"
     ]
    }
   ],
   "source": [
    "print(solution([\"classic\", \"pop\", \"classic\", \"classic\", \"pop\"], [500, 600, 150, 800, 2500])) # [4, 1, 3, 0]"
   ]
  }
 ],
 "metadata": {
  "kernelspec": {
   "display_name": "Python 3.10.6 64-bit",
   "language": "python",
   "name": "python3"
  },
  "language_info": {
   "codemirror_mode": {
    "name": "ipython",
    "version": 3
   },
   "file_extension": ".py",
   "mimetype": "text/x-python",
   "name": "python",
   "nbconvert_exporter": "python",
   "pygments_lexer": "ipython3",
   "version": "3.10.6"
  },
  "orig_nbformat": 4,
  "vscode": {
   "interpreter": {
    "hash": "afb734500600fd355917ca529030176ea0ca205570884b88f2f6f7d791fd3fbe"
   }
  }
 },
 "nbformat": 4,
 "nbformat_minor": 2
}
