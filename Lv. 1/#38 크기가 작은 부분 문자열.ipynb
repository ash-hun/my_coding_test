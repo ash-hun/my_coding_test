{
 "cells": [
  {
   "cell_type": "code",
   "execution_count": null,
   "metadata": {},
   "outputs": [],
   "source": [
    "def solution(t, p):\n",
    "    answer = 0\n",
    "    temp = []\n",
    "    for idx in range(0, len(t)-len(p)+1):\n",
    "        temp.append(t[idx:idx+len(p)])\n",
    "    # print(temp)\n",
    "    for target in temp:\n",
    "        # print(int(target), int(p))\n",
    "        if int(target) <= int(p):\n",
    "            answer += 1\n",
    "            # print(\"answer += 1\")\n",
    "    return answer"
   ]
  }
 ],
 "metadata": {
  "kernelspec": {
   "display_name": "Python 3.10.6 64-bit",
   "language": "python",
   "name": "python3"
  },
  "language_info": {
   "name": "python",
   "version": "3.10.6"
  },
  "orig_nbformat": 4,
  "vscode": {
   "interpreter": {
    "hash": "afb734500600fd355917ca529030176ea0ca205570884b88f2f6f7d791fd3fbe"
   }
  }
 },
 "nbformat": 4,
 "nbformat_minor": 2
}
