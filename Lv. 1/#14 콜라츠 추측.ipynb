{
 "cells": [
  {
   "cell_type": "code",
   "execution_count": null,
   "metadata": {},
   "outputs": [],
   "source": [
    "def solution(num):\n",
    "    answer = 0\n",
    "    tmp = num\n",
    "    while(tmp!=1):\n",
    "        if tmp%2 == 0:\n",
    "            tmp /= 2\n",
    "        else:\n",
    "            tmp = (tmp*3)+1\n",
    "        answer += 1\n",
    "        if answer > 500:\n",
    "            answer = -1\n",
    "            break\n",
    "            \n",
    "    return answer"
   ]
  }
 ],
 "metadata": {
  "language_info": {
   "name": "python"
  },
  "orig_nbformat": 4
 },
 "nbformat": 4,
 "nbformat_minor": 2
}
