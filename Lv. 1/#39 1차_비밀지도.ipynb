{
 "cells": [
  {
   "cell_type": "markdown",
   "metadata": {},
   "source": [
    "# Programmers Lv.1 : [1차]비밀지도"
   ]
  },
  {
   "cell_type": "code",
   "execution_count": 1,
   "metadata": {},
   "outputs": [],
   "source": [
    "# Solution 01\n",
    "def solution(n, arr1, arr2):\n",
    "    answer = []\n",
    "    for first, second in zip(arr1, arr2):\n",
    "        tmp = bin(first | second)[2:]\n",
    "        if len(tmp)<n:\n",
    "            tmp = '0'*(n-len(tmp))+tmp\n",
    "        tmp = tmp.replace('1', '#')\n",
    "        tmp = tmp.replace('0', \" \")\n",
    "        answer.append(tmp)\n",
    "    return answer"
   ]
  },
  {
   "cell_type": "code",
   "execution_count": 2,
   "metadata": {},
   "outputs": [
    {
     "name": "stdout",
     "output_type": "stream",
     "text": [
      "['#####', '# # #', '### #', '#  ##', '#####']\n",
      "['######', '###  #', '##  ##', ' #### ', ' #####', '### # ']\n"
     ]
    }
   ],
   "source": [
    "print(solution(5, [9, 20, 28, 18, 11], [30, 1, 21, 17, 28]))\n",
    "print(solution(6, [46, 33, 33 ,22, 31, 50], [27 ,56, 19, 14, 14, 10]))"
   ]
  }
 ],
 "metadata": {
  "kernelspec": {
   "display_name": "Python 3.9.13 ('base': conda)",
   "language": "python",
   "name": "python3"
  },
  "language_info": {
   "codemirror_mode": {
    "name": "ipython",
    "version": 3
   },
   "file_extension": ".py",
   "mimetype": "text/x-python",
   "name": "python",
   "nbconvert_exporter": "python",
   "pygments_lexer": "ipython3",
   "version": "3.9.13"
  },
  "orig_nbformat": 4,
  "vscode": {
   "interpreter": {
    "hash": "58a28fc6c7d3319e920d4fd5d51ce0ce2935cf7a2f53d114afc959b6682a9b8b"
   }
  }
 },
 "nbformat": 4,
 "nbformat_minor": 2
}
