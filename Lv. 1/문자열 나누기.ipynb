{
 "cells": [
  {
   "cell_type": "markdown",
   "metadata": {},
   "source": [
    "# Programmers Lv.1 문자열 나누기"
   ]
  },
  {
   "cell_type": "code",
   "execution_count": 11,
   "metadata": {},
   "outputs": [],
   "source": [
    "def solution(s):\n",
    "    # bucket[0] = 첫글자의 개수, bucket[1] = 첫글자와 다른 나머지 글자의 개수\n",
    "    answer, bucket = 0, [0, 0]\n",
    "    idx = 0\n",
    "    for index, elem in enumerate(s):\n",
    "        if elem == s[idx]:\n",
    "            bucket[0] += 1\n",
    "        else:\n",
    "            bucket[1] += 1\n",
    "        \n",
    "        if bucket[0] == bucket[1]:\n",
    "            answer += 1\n",
    "            idx = index +1\n",
    "            bucket[0], bucket[1] = 0, 0\n",
    "        else:\n",
    "            if index+1 >= len(s):\n",
    "                answer += 1\n",
    "                break\n",
    "    return answer"
   ]
  },
  {
   "cell_type": "code",
   "execution_count": 12,
   "metadata": {},
   "outputs": [
    {
     "name": "stdout",
     "output_type": "stream",
     "text": [
      "3\n",
      "6\n",
      "3\n"
     ]
    }
   ],
   "source": [
    "print(solution(\"banana\")) #3\n",
    "print(solution(\"abracadabra\")) #6\n",
    "print(solution(\"aaabbaccccabba\")) #3"
   ]
  }
 ],
 "metadata": {
  "kernelspec": {
   "display_name": "Python 3.10.6 64-bit",
   "language": "python",
   "name": "python3"
  },
  "language_info": {
   "codemirror_mode": {
    "name": "ipython",
    "version": 3
   },
   "file_extension": ".py",
   "mimetype": "text/x-python",
   "name": "python",
   "nbconvert_exporter": "python",
   "pygments_lexer": "ipython3",
   "version": "3.10.6"
  },
  "orig_nbformat": 4,
  "vscode": {
   "interpreter": {
    "hash": "afb734500600fd355917ca529030176ea0ca205570884b88f2f6f7d791fd3fbe"
   }
  }
 },
 "nbformat": 4,
 "nbformat_minor": 2
}
