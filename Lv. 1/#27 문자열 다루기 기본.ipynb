{
 "cells": [
  {
   "cell_type": "code",
   "execution_count": null,
   "metadata": {},
   "outputs": [],
   "source": [
    "def solution(s):\n",
    "    if len(s)==4 or len(s)==6:\n",
    "        answer = True if s.isdecimal() else False\n",
    "        return answer\n",
    "    else:\n",
    "        return False\n",
    "    # return True if s.isdecimal() else False if len(s)==4 or len(s)==6 else False"
   ]
  }
 ],
 "metadata": {
  "language_info": {
   "name": "python"
  },
  "orig_nbformat": 4
 },
 "nbformat": 4,
 "nbformat_minor": 2
}
