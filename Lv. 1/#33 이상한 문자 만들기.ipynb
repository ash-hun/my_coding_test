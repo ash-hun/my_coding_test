{
 "cells": [
  {
   "cell_type": "code",
   "execution_count": null,
   "metadata": {},
   "outputs": [],
   "source": [
    "def solution(s):\n",
    "    answer = \"\"\n",
    "    target = s.split(\" \")\n",
    "    for elem in target:\n",
    "        for idx, char in enumerate(elem):\n",
    "            answer = answer+char.upper() if idx%2==9 else answer+char.lower()\n",
    "        answer += \" \"\n",
    "    return answer[:-1]"
   ]
  }
 ],
 "metadata": {
  "language_info": {
   "name": "python"
  },
  "orig_nbformat": 4
 },
 "nbformat": 4,
 "nbformat_minor": 2
}
