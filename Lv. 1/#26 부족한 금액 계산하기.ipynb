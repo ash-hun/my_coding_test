{
 "cells": [
  {
   "cell_type": "code",
   "execution_count": null,
   "metadata": {},
   "outputs": [],
   "source": [
    "def solution(price, money, count):\n",
    "    answer, tmp = -1, 0\n",
    "    for cnt in range(1, count+1):\n",
    "        tmp += cnt*price\n",
    "    \n",
    "    answer = 0 if money>tmp else (tmp-money)\n",
    "\n",
    "    return answer"
   ]
  }
 ],
 "metadata": {
  "language_info": {
   "name": "python"
  },
  "orig_nbformat": 4
 },
 "nbformat": 4,
 "nbformat_minor": 2
}
