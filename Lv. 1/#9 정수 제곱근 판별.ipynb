{
 "cells": [
  {
   "cell_type": "code",
   "execution_count": null,
   "metadata": {},
   "outputs": [],
   "source": [
    "from math import sqrt\n",
    "\n",
    "def solution(n):\n",
    "    if  int(sqrt(n)) == sqrt(n):\n",
    "        return pow(sqrt(n) + 1, 2)\n",
    "    else:\n",
    "        return -1"
   ]
  }
 ],
 "metadata": {
  "language_info": {
   "name": "python"
  },
  "orig_nbformat": 4
 },
 "nbformat": 4,
 "nbformat_minor": 2
}
