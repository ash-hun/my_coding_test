{
 "cells": [
  {
   "cell_type": "code",
   "execution_count": null,
   "metadata": {},
   "outputs": [],
   "source": [
    "def solution(sizes):\n",
    "    w, h = 0, 0\n",
    "    for element in sizes:\n",
    "        if element[0] > element[1]:\n",
    "            element[0], element[1] = element[1], element[0]\n",
    "        if element[0]>w:\n",
    "            w = element[0]\n",
    "        if element[1]>h:\n",
    "            h = element[1]\n",
    "    return w*h"
   ]
  }
 ],
 "metadata": {
  "kernelspec": {
   "display_name": "Python 3.10.6 64-bit",
   "language": "python",
   "name": "python3"
  },
  "language_info": {
   "name": "python",
   "version": "3.10.6"
  },
  "orig_nbformat": 4,
  "vscode": {
   "interpreter": {
    "hash": "afb734500600fd355917ca529030176ea0ca205570884b88f2f6f7d791fd3fbe"
   }
  }
 },
 "nbformat": 4,
 "nbformat_minor": 2
}
