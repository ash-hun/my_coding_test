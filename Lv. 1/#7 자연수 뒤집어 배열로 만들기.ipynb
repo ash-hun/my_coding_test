{
 "cells": [
  {
   "cell_type": "code",
   "execution_count": null,
   "metadata": {},
   "outputs": [],
   "source": [
    "def solution(n):\n",
    "    tmp = list(map(int, str(n)))\n",
    "    return tmp[::-1]"
   ]
  }
 ],
 "metadata": {
  "language_info": {
   "name": "python"
  },
  "orig_nbformat": 4
 },
 "nbformat": 4,
 "nbformat_minor": 2
}
