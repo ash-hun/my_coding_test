{
 "cells": [
  {
   "cell_type": "code",
   "execution_count": null,
   "metadata": {},
   "outputs": [],
   "source": [
    "# def solution(x, n):\n",
    "#     answer = []\n",
    "#     cnt = x\n",
    "#     for _ in range(n):\n",
    "#         answer.append(x)\n",
    "#         x+=cnt\n",
    "#     return answer\n",
    "\n",
    "def solution(x, n):\n",
    "    answer = [ x*i for i in range(1, n+1)]\n",
    "    return answer"
   ]
  }
 ],
 "metadata": {
  "language_info": {
   "name": "python"
  },
  "orig_nbformat": 4
 },
 "nbformat": 4,
 "nbformat_minor": 2
}
