{
 "cells": [
  {
   "cell_type": "code",
   "execution_count": null,
   "metadata": {},
   "outputs": [],
   "source": [
    "def solution(s, n):\n",
    "    answer = ''\n",
    "    for i in list(s):\n",
    "        if i != \" \":\n",
    "            if i.isupper() :\n",
    "                answer += chr(ord(i)+n) if ord(i)+n < 91  else chr(ord(i)-26+n)\n",
    "            elif i.islower() :\n",
    "                answer += chr(ord(i)+n) if ord(i)+n < 123  else chr(ord(i)-26+n)\n",
    "        else:\n",
    "            answer += \" \"\n",
    "    return answer"
   ]
  }
 ],
 "metadata": {
  "language_info": {
   "name": "python"
  },
  "orig_nbformat": 4
 },
 "nbformat": 4,
 "nbformat_minor": 2
}
