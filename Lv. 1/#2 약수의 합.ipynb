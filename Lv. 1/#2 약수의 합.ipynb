{
 "cells": [
  {
   "cell_type": "code",
   "execution_count": null,
   "metadata": {},
   "outputs": [],
   "source": [
    "def solution(n):\n",
    "    answer = 0\n",
    "    tmp = []\n",
    "    for i in range(1, n+1):\n",
    "        if i == n:\n",
    "            tmp.append(i)\n",
    "        elif n%i == 0:\n",
    "            tmp.append(i)\n",
    "        answer = sum(tmp)\n",
    "    return answer"
   ]
  }
 ],
 "metadata": {
  "language_info": {
   "name": "python"
  },
  "orig_nbformat": 4
 },
 "nbformat": 4,
 "nbformat_minor": 2
}
