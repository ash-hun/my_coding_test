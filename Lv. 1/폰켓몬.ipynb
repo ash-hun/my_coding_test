{
 "cells": [
  {
   "cell_type": "markdown",
   "metadata": {},
   "source": [
    "# Programmers Lv.1 폰켓몬"
   ]
  },
  {
   "cell_type": "code",
   "execution_count": 47,
   "metadata": {},
   "outputs": [],
   "source": [
    "# Solution 01\n",
    "import itertools as it\n",
    "\n",
    "def solution(nums):\n",
    "    data = list(it.combinations(nums, len(nums)//2))\n",
    "    after = [set(element) for element in data]\n",
    "    answer = len(list(max(after)))\n",
    "    return answer"
   ]
  },
  {
   "cell_type": "code",
   "execution_count": 48,
   "metadata": {},
   "outputs": [
    {
     "name": "stdout",
     "output_type": "stream",
     "text": [
      "3\n",
      "2\n",
      "2\n"
     ]
    }
   ],
   "source": [
    "print(solution([3,3,3,2,2,4]))\n",
    "print(solution([3,3,3,2,2,2]))\n",
    "print(solution([3,1,2,3]))"
   ]
  },
  {
   "cell_type": "code",
   "execution_count": 45,
   "metadata": {},
   "outputs": [],
   "source": [
    "# Solution 02\n",
    "def solution(nums):\n",
    "    answer = 0\n",
    "    length = len(nums) // 2\n",
    "    temp = list(set(nums))\n",
    "    # print(temp)\n",
    "    # print(f\"answer : {answer}\")\n",
    "    for value in temp :\n",
    "        if(answer < length):\n",
    "            answer +=1\n",
    "        # print(f\"answer : {answer}\")\n",
    "    return answer"
   ]
  },
  {
   "cell_type": "code",
   "execution_count": 46,
   "metadata": {},
   "outputs": [
    {
     "name": "stdout",
     "output_type": "stream",
     "text": [
      "3\n",
      "2\n",
      "2\n"
     ]
    }
   ],
   "source": [
    "print(solution([3,3,3,2,2,4]))\n",
    "print(solution([3,3,3,2,2,2]))\n",
    "print(solution([3,1,2,3]))"
   ]
  },
  {
   "cell_type": "code",
   "execution_count": null,
   "metadata": {},
   "outputs": [],
   "source": []
  }
 ],
 "metadata": {
  "kernelspec": {
   "display_name": "Python 3.9.13 ('base': conda)",
   "language": "python",
   "name": "python3"
  },
  "language_info": {
   "codemirror_mode": {
    "name": "ipython",
    "version": 3
   },
   "file_extension": ".py",
   "mimetype": "text/x-python",
   "name": "python",
   "nbconvert_exporter": "python",
   "pygments_lexer": "ipython3",
   "version": "3.9.13"
  },
  "orig_nbformat": 4,
  "vscode": {
   "interpreter": {
    "hash": "58a28fc6c7d3319e920d4fd5d51ce0ce2935cf7a2f53d114afc959b6682a9b8b"
   }
  }
 },
 "nbformat": 4,
 "nbformat_minor": 2
}
