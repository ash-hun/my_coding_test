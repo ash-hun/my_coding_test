{
 "cells": [
  {
   "cell_type": "code",
   "execution_count": null,
   "metadata": {},
   "outputs": [],
   "source": [
    "def solution(arr, divisor):\n",
    "    answer = []\n",
    "    for element in arr:\n",
    "        if element%divisor==0:\n",
    "            answer.append(element)\n",
    "    if answer:\n",
    "        answer = sorted(answer, reverse=False)\n",
    "    else:\n",
    "        answer.append(-1)\n",
    "    return answer"
   ]
  }
 ],
 "metadata": {
  "language_info": {
   "name": "python"
  },
  "orig_nbformat": 4
 },
 "nbformat": 4,
 "nbformat_minor": 2
}
