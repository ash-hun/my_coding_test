{
 "cells": [
  {
   "cell_type": "code",
   "execution_count": null,
   "metadata": {},
   "outputs": [],
   "source": [
    "import string\n",
    "\n",
    "def solution(n):\n",
    "    def convert(num, base):\n",
    "        tmp = string.digits + string.ascii_lowercase\n",
    "        q, r = divmod(num, base)\n",
    "        if q==0:\n",
    "            return tmp[r]\n",
    "        else:\n",
    "            return convert(q, base) + tmp[r]\n",
    "    \n",
    "    tmp = list(str(convert(n, 3)))\n",
    "    tmp = ''.join(tmp[::-1])\n",
    "    return int(tmp, 3)"
   ]
  }
 ],
 "metadata": {
  "language_info": {
   "name": "python"
  },
  "orig_nbformat": 4
 },
 "nbformat": 4,
 "nbformat_minor": 2
}
