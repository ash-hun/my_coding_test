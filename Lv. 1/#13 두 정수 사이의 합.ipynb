{
 "cells": [
  {
   "cell_type": "code",
   "execution_count": null,
   "metadata": {},
   "outputs": [],
   "source": [
    "def solution(a, b):\n",
    "    if a==b:\n",
    "        return a\n",
    "    elif a>b:\n",
    "        listup = [ i for i in range(b, a+1)]\n",
    "        return sum(listup)\n",
    "    else:\n",
    "        listup = [ i for i in range(a, b+1)]\n",
    "        return sum(listup)"
   ]
  }
 ],
 "metadata": {
  "language_info": {
   "name": "python"
  },
  "orig_nbformat": 4
 },
 "nbformat": 4,
 "nbformat_minor": 2
}
