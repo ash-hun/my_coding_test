{
 "cells": [
  {
   "cell_type": "code",
   "execution_count": null,
   "metadata": {},
   "outputs": [],
   "source": [
    "def solution(a, b):\n",
    "    x,y = a,b\n",
    "    z = x%y\n",
    "    while z>0:\n",
    "        x,y=y,z\n",
    "        z=x%y\n",
    "    g=y\n",
    "    return [g, a/g*b]"
   ]
  }
 ],
 "metadata": {
  "language_info": {
   "name": "python"
  },
  "orig_nbformat": 4
 },
 "nbformat": 4,
 "nbformat_minor": 2
}
