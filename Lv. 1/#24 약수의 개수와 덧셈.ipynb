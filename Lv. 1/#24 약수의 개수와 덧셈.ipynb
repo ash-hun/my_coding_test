{
 "cells": [
  {
   "cell_type": "code",
   "execution_count": null,
   "metadata": {},
   "outputs": [],
   "source": [
    "def solution(left, right):\n",
    "    \n",
    "    def cntDivisor(number):\n",
    "        divisor = [i for i in range(1, number+1) if number%i==0]\n",
    "        if len(divisor) % 2 == 0:\n",
    "            return 1\n",
    "        else:\n",
    "            return -1\n",
    "\n",
    "    answer = 0\n",
    "    for target in range(left, right+1):\n",
    "        answer += cntDivisor(target)*target\n",
    "    return answer"
   ]
  }
 ],
 "metadata": {
  "language_info": {
   "name": "python"
  },
  "orig_nbformat": 4
 },
 "nbformat": 4,
 "nbformat_minor": 2
}
